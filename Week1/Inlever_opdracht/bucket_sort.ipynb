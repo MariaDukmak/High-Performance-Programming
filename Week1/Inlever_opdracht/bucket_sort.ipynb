{
 "cells": [
  {
   "cell_type": "markdown",
   "metadata": {},
   "source": [
    "\n",
    "# Inlever opdracht: Bucket sort "
   ]
  },
  {
   "cell_type": "markdown",
   "metadata": {},
   "source": [
    "Schrijf een implementatie van het onderstaande Bucket Sort algoritme voor het sorteren van gehele getallen "
   ]
  },
  {
   "cell_type": "markdown",
   "metadata": {},
   "source": [
    "Een bucket sort begint met een een-dimensionale array van n positieve nummers die gesorteerd worden en een twee-dimensionale array van integers, met rijen genummerd van 0 tot 9 en kolommen geïndexeerd van 0 tot n-1. Elke rij in de twee-dimensionale array heeft een bucket.  Het algoritme werkt dan alsvolgt:\n",
    "\n",
    "\n",
    "\n",
    "Plaats elke waarde van de een-dimensionale array in een rij van de bucket array, gebaseerd op het meest rechtse cijfer in het getal (de \"een\"-waarde). Bijvoorbeeld, 97 wordt geplaatst in rij 7, 3 wordt geplaatst in rij 3 en 100 wordt geplaatst in rij 0. Deze stap heet de distribution pass.\n",
    "  \n",
    "  \n",
    "Loop door de bucket array rij voor rij, en kopieer de waardes terug in de originele array. Deze stap heet de gathering pass. De volgorde van de hierboven genoemde getallen is dus nu 100, 3, 97.\n",
    "    \n",
    "Herhaal dit proces voor elke volgende digit-positie (dus voor de tientallen, honderdtallen, etc.). Na de laatste gathering pass is de array gesorteerd."
   ]
  },
  {
   "cell_type": "markdown",
   "metadata": {},
   "source": [
    "## Aanpak oplossing"
   ]
  },
  {
   "cell_type": "markdown",
   "metadata": {},
   "source": [
    "Voordat we met coderen beginnen, is het handig om de werking van het algoritme in Pseudocodete schrijven. "
   ]
  },
  {
   "cell_type": "markdown",
   "metadata": {},
   "source": [
    "Function Bucket_sot(Array):\n",
    "\n",
    "    1. Bepaal de lengte van de array \n",
    "    2. Maak op basis van dat een lege arraymet n aantal lege lists\n",
    "    3. Loop over de array met deze functie (elemet % 10 ** digits)\n",
    "    4. Append de getallen in de buckets\n",
    "    5. Append de gesorteerde lijst in een een nieuwe lijst\n",
    "    6. Return de lijst "
   ]
  },
  {
   "cell_type": "markdown",
   "metadata": {},
   "source": [
    "Function Bucket_sort_neg(Array):\n",
    "\n",
    "    1. Splits de lijst in twee lijsten van negatieve en positieve getallen. \n",
    "    2. Zet de negatieve lijst om naar positieve, maak gebruik van abs.\n",
    "    3. Sorteer de twee lijsten afzonderlijk van elkaar door gebruik van de Bucket sort algoritme te maken.\n",
    "    4. Zet de gesorteerde lijst van de negative getallen weer in negatief en revers de lijst.\n",
    "    5. Return de twee lijsten"
   ]
  },
  {
   "cell_type": "markdown",
   "metadata": {},
   "source": [
    "__Code__"
   ]
  },
  {
   "cell_type": "code",
   "execution_count": 1,
   "metadata": {},
   "outputs": [
    {
     "name": "stderr",
     "output_type": "stream",
     "text": [
      "C:\\Users\\marya\\Anaconda3\\lib\\site-packages\\statsmodels\\tools\\_testing.py:19: FutureWarning: pandas.util.testing is deprecated. Use the functions in the public API at pandas.testing instead.\n",
      "  import pandas.util.testing as tm\n"
     ]
    }
   ],
   "source": [
    "from numpy import random\n",
    "import matplotlib.pyplot as plt \n",
    "import seaborn as sns\n",
    "import time\n",
    "import pandas as pd \n",
    "import math"
   ]
  },
  {
   "cell_type": "markdown",
   "metadata": {},
   "source": [
    "We schrijven een functie die een random getallen genereerd op basis van een gegeven lengte. "
   ]
  },
  {
   "cell_type": "code",
   "execution_count": 2,
   "metadata": {},
   "outputs": [],
   "source": [
    "def generate_list(limits:int)-> [int]:\n",
    "    \"\"\" \n",
    "    Generates list of random numbers\n",
    "    \n",
    "    :param\n",
    "    -------\n",
    "    limits: \n",
    "            list of the size of each random list\n",
    "    \"\"\"\n",
    "    random_lijsten = []\n",
    "    for limit in range(limits):\n",
    "        random_lijsten.append(random.randint(1,1000))\n",
    "    return random_lijsten"
   ]
  },
  {
   "cell_type": "markdown",
   "metadata": {},
   "source": [
    "Vervolgens schrijven we een functie die een list met bucket kan genereren op basis van een gegeven lengte."
   ]
  },
  {
   "cell_type": "code",
   "execution_count": 3,
   "metadata": {},
   "outputs": [],
   "source": [
    "def generate_buckets(n: int)-> [[]]:\n",
    "    \"\"\"\n",
    "    Generate x items buckets\n",
    "    \n",
    "    :param\n",
    "    ------\n",
    "    n: int \n",
    "        The lenght of the bucket list \n",
    "    \"\"\" \n",
    "    # Voor nu op 10 gezet aangezien dat de aantal lijsten die we nodig hebben\n",
    "    buckets_list = [[] for _ in range(10)]\n",
    "\n",
    "    return buckets_list"
   ]
  },
  {
   "cell_type": "markdown",
   "metadata": {},
   "source": [
    "Nu is het tijd om de sort algoritme te maken."
   ]
  },
  {
   "cell_type": "code",
   "execution_count": 4,
   "metadata": {},
   "outputs": [],
   "source": [
    "def bucket_sort(lijst:[int])-> [int]:\n",
    "    \"\"\" \n",
    "    A function that sorts a list usings buckets. \n",
    "    \n",
    "    :param\n",
    "    ------\n",
    "    lijst: list\n",
    "        The list that contains 3 random generate lists \n",
    "    \n",
    "    \"\"\" \n",
    "    n = len(lijst)\n",
    "    index = 10\n",
    "    if n == 0:\n",
    "        return lijst\n",
    "    \n",
    "     # Distribution step\n",
    "    for i in range(len(repr(max(lijst)))): \n",
    "        generated_buckets = generate_buckets(n)\n",
    "        for j in lijst:\n",
    "            generated_buckets[(j % index) // (index // 10)].append(j)\n",
    "        index = index * 10 # get the next digit positie\n",
    "\n",
    "        # Gathering step\n",
    "        lijst = []\n",
    "        for i in generated_buckets:\n",
    "            for j in i:\n",
    "                lijst.append(j)\n",
    "    return lijst"
   ]
  },
  {
   "cell_type": "markdown",
   "metadata": {},
   "source": [
    "Het sorteer algoritme kan nu alleen een lijst van positieve getallen sorteren. We willen dat ons algoritme de hele verzameling van gehele getallen kan sorteren. Dus we gaan een extra stapje toevoegen waar we het sorteeren van negatieve getallen mogelijk maken. "
   ]
  },
  {
   "cell_type": "code",
   "execution_count": 5,
   "metadata": {},
   "outputs": [],
   "source": [
    "def bucket_sort_neg(lijst:[int])-> [int]:\n",
    "    \"\"\" \n",
    "    A function that helps to sort of a mixd list. \n",
    "    \n",
    "    :param\n",
    "    ------\n",
    "    lijst: list\n",
    "        The list that contains a random generate list\n",
    "        \n",
    "    \"\"\"\n",
    "    # split de lijst in positive and negative getallen\n",
    "    pos = list(filter(lambda x:x >= 0, lijst))\n",
    "    neg = list(filter(lambda x:x < 0, lijst))\n",
    " \n",
    "    # Get the abs value from the negative values \n",
    "    abs_neg = [abs(number) for number in neg]\n",
    "\n",
    "    sort_pos = bucket_sort(pos)\n",
    "    sort_neg= bucket_sort(abs_neg)\n",
    "\n",
    "    sorted_neg = [num*-1 for num in sort_neg][::-1]\n",
    "\n",
    "    return sorted_neg + sort_pos"
   ]
  },
  {
   "cell_type": "markdown",
   "metadata": {},
   "source": [
    "__Run het algoritme__"
   ]
  },
  {
   "cell_type": "markdown",
   "metadata": {},
   "source": [
    " Met een lijst van 15 random positieve getallen"
   ]
  },
  {
   "cell_type": "code",
   "execution_count": 6,
   "metadata": {},
   "outputs": [],
   "source": [
    "list_to_sort = generate_list(15)"
   ]
  },
  {
   "cell_type": "code",
   "execution_count": 7,
   "metadata": {},
   "outputs": [
    {
     "data": {
      "text/plain": [
       "[442, 985, 663, 467, 288, 26, 554, 990, 15, 886, 941, 454, 440, 76, 534]"
      ]
     },
     "execution_count": 7,
     "metadata": {},
     "output_type": "execute_result"
    }
   ],
   "source": [
    "list_to_sort"
   ]
  },
  {
   "cell_type": "code",
   "execution_count": 8,
   "metadata": {},
   "outputs": [
    {
     "data": {
      "text/plain": [
       "[15, 26, 76, 288, 440, 442, 454, 467, 534, 554, 663, 886, 941, 985, 990]"
      ]
     },
     "execution_count": 8,
     "metadata": {},
     "output_type": "execute_result"
    }
   ],
   "source": [
    "bucket_sort_neg(list_to_sort)"
   ]
  },
  {
   "cell_type": "markdown",
   "metadata": {},
   "source": [
    "Met een gegeven lijst van negatieve en postieve getallen"
   ]
  },
  {
   "cell_type": "code",
   "execution_count": 9,
   "metadata": {},
   "outputs": [
    {
     "data": {
      "text/plain": [
       "[-165, -88, -15, -1, 0, 1, 1, 2, 31, 50]"
      ]
     },
     "execution_count": 9,
     "metadata": {},
     "output_type": "execute_result"
    }
   ],
   "source": [
    "bucket_sort_neg([50, 0, 1, -15 , 1 , 2 , 31 , -1 , -88 ,-165])"
   ]
  },
  {
   "cell_type": "markdown",
   "metadata": {},
   "source": [
    "En als laatste; een lijst met alleen maar negatieve getallen"
   ]
  },
  {
   "cell_type": "code",
   "execution_count": 10,
   "metadata": {},
   "outputs": [
    {
     "data": {
      "text/plain": [
       "[-165, -88, -50, -31, -15, -2, -1, -1, -1]"
      ]
     },
     "execution_count": 10,
     "metadata": {},
     "output_type": "execute_result"
    }
   ],
   "source": [
    "bucket_sort_neg([-50, -1, -15 , -1 , -2 , -31 , -1 , -88 ,-165])"
   ]
  },
  {
   "cell_type": "markdown",
   "metadata": {},
   "source": [
    "__Snelheid van het algoritme__"
   ]
  },
  {
   "cell_type": "markdown",
   "metadata": {},
   "source": [
    "Hier gaan we de snelheid van het algroritme testen door het algoritme meerdere lists van verschillende lengtes te laten runnen."
   ]
  },
  {
   "cell_type": "code",
   "execution_count": 11,
   "metadata": {},
   "outputs": [],
   "source": [
    "def calculate_time(sort_algoritme , list_of_random_list):\n",
    "    \"\"\"\n",
    "    calculates the time that each algorithm takes to sort the lists\n",
    "    \n",
    "    :param\n",
    "    -------\n",
    "    sort_algorithme:\n",
    "            the name of the sort algorithm\n",
    "    list_of_random_list: \n",
    "            the list with the random nummbers \n",
    "    \"\"\"\n",
    "    list_with_n_times = {}\n",
    "    for this_list in list_of_random_list:\n",
    "        time1 = time.time()\n",
    "        sort_algoritme(this_list)\n",
    "        time2 = time.time()\n",
    "        list_with_n_times[len(this_list)] = time2 - time1\n",
    "\n",
    "    return list_with_n_times"
   ]
  },
  {
   "cell_type": "markdown",
   "metadata": {},
   "source": [
    "__Random niet gesorteerde lijsten__"
   ]
  },
  {
   "cell_type": "markdown",
   "metadata": {},
   "source": [
    "We maken er 3 veschillende lijsten van random getallen, die gaan we het algoritme laten sorteren "
   ]
  },
  {
   "cell_type": "code",
   "execution_count": 12,
   "metadata": {},
   "outputs": [],
   "source": [
    "duizend_list = generate_list(1000)\n",
    "tienduizend_list = generate_list(10000)\n",
    "dertigduizend_list = generate_list(30000)\n",
    "\n",
    "lists_to_sort= [duizend_list, tienduizend_list, dertigduizend_list]"
   ]
  },
  {
   "cell_type": "code",
   "execution_count": 13,
   "metadata": {},
   "outputs": [],
   "source": [
    "antwoord = calculate_time(bucket_sort_neg, lists_to_sort)"
   ]
  },
  {
   "cell_type": "code",
   "execution_count": 14,
   "metadata": {},
   "outputs": [
    {
     "data": {
      "text/plain": [
       "{1000: 0.00539398193359375,\n",
       " 10000: 0.04106926918029785,\n",
       " 30000: 0.13618159294128418}"
      ]
     },
     "execution_count": 14,
     "metadata": {},
     "output_type": "execute_result"
    }
   ],
   "source": [
    "antwoord"
   ]
  },
  {
   "cell_type": "code",
   "execution_count": 15,
   "metadata": {},
   "outputs": [
    {
     "data": {
      "image/png": "[encoded data removed]",
      "text/plain": [
       "<Figure size 432x288 with 1 Axes>"
      ]
     },
     "metadata": {
      "needs_background": "light"
     },
     "output_type": "display_data"
    }
   ],
   "source": [
    "grafiek1 = sns.lineplot(data = pd.DataFrame.from_dict(antwoord, orient='index'))\n",
    "grafiek1.set(xlabel='X in list', ylabel='time in ms')\n",
    "plt.show()"
   ]
  },
  {
   "cell_type": "markdown",
   "metadata": {},
   "source": [
    "__Random niet gesoorterde lijsten reversed__"
   ]
  },
  {
   "cell_type": "markdown",
   "metadata": {},
   "source": [
    "Het algoritme sorteert de lijsten best snel! Maar wat zou er gebeuren als we de lijst omdraaien?"
   ]
  },
  {
   "cell_type": "code",
   "execution_count": 16,
   "metadata": {},
   "outputs": [],
   "source": [
    "reversed_list = [elem[::-1] for elem in lists_to_sort]"
   ]
  },
  {
   "cell_type": "code",
   "execution_count": 17,
   "metadata": {},
   "outputs": [],
   "source": [
    "antwoord_reversed = calculate_time(bucket_sort, lists_to_sort)"
   ]
  },
  {
   "cell_type": "code",
   "execution_count": 18,
   "metadata": {},
   "outputs": [
    {
     "data": {
      "text/plain": [
       "{1000: 0.0019505023956298828,\n",
       " 10000: 0.03690361976623535,\n",
       " 30000: 0.08121204376220703}"
      ]
     },
     "execution_count": 18,
     "metadata": {},
     "output_type": "execute_result"
    }
   ],
   "source": [
    "antwoord_reversed"
   ]
  },
  {
   "cell_type": "code",
   "execution_count": 19,
   "metadata": {},
   "outputs": [
    {
     "data": {
      "image/png": "[encoded data removed]",
      "text/plain": [
       "<Figure size 432x288 with 1 Axes>"
      ]
     },
     "metadata": {
      "needs_background": "light"
     },
     "output_type": "display_data"
    }
   ],
   "source": [
    "grafiek2 = sns.lineplot(data = pd.DataFrame.from_dict(antwoord_reversed, orient='index'))\n",
    "grafiek2.set(xlabel='X in list', ylabel='time in ms')\n",
    "plt.show()"
   ]
  },
  {
   "cell_type": "markdown",
   "metadata": {},
   "source": [
    "Het algoritme doet nu iets langer over, maar nog steeds niet slecht! "
   ]
  },
  {
   "cell_type": "markdown",
   "metadata": {},
   "source": [
    "__Gesorteerde lijst__"
   ]
  },
  {
   "cell_type": "code",
   "execution_count": 20,
   "metadata": {},
   "outputs": [],
   "source": [
    "def generate_sorted_list(limit:int)->[[int]]:\n",
    "    \"\"\"\n",
    "    Een functie die een gesorteerde lijst aanmaakt\n",
    "    \n",
    "    :param\n",
    "    ------\n",
    "    limit:int \n",
    "        De lengte van de lijst\n",
    "    \"\"\"\n",
    "    lijst =[i for i in range(limit)]\n",
    "    return lijst"
   ]
  },
  {
   "cell_type": "code",
   "execution_count": 21,
   "metadata": {},
   "outputs": [],
   "source": [
    "duizend_list = generate_sorted_list(1000)\n",
    "tienduizend_list = generate_sorted_list(10000)\n",
    "dertigduizend_list = generate_sorted_list(30000)\n",
    "\n",
    "lists_to_sort_sorted= [duizend_list, tienduizend_list, dertigduizend_list]"
   ]
  },
  {
   "cell_type": "code",
   "execution_count": 22,
   "metadata": {},
   "outputs": [],
   "source": [
    "antwoord_sorted= calculate_time(bucket_sort_neg, lists_to_sort_sorted)"
   ]
  },
  {
   "cell_type": "code",
   "execution_count": 23,
   "metadata": {},
   "outputs": [
    {
     "data": {
      "text/plain": [
       "{1000: 0.00397038459777832,\n",
       " 10000: 0.0504148006439209,\n",
       " 30000: 0.168168306350708}"
      ]
     },
     "execution_count": 23,
     "metadata": {},
     "output_type": "execute_result"
    }
   ],
   "source": [
    "antwoord_sorted"
   ]
  },
  {
   "cell_type": "code",
   "execution_count": 24,
   "metadata": {},
   "outputs": [
    {
     "data": {
      "image/png": "[encoded data removed]",
      "text/plain": [
       "<Figure size 432x288 with 1 Axes>"
      ]
     },
     "metadata": {
      "needs_background": "light"
     },
     "output_type": "display_data"
    }
   ],
   "source": [
    "grafiek3 = sns.lineplot(data = pd.DataFrame.from_dict(antwoord_sorted, orient='index'))\n",
    "grafiek3.set(xlabelb ='X in list', ylabel='time in ms')\n",
    "plt.show()"
   ]
  },
  {
   "cell_type": "markdown",
   "metadata": {},
   "source": [
    "__Gesorteerde lijsten reversed__"
   ]
  },
  {
   "cell_type": "code",
   "execution_count": 25,
   "metadata": {},
   "outputs": [],
   "source": [
    "reversed_list_sorted = [elem[::-1] for elem in lists_to_sort]"
   ]
  },
  {
   "cell_type": "code",
   "execution_count": 26,
   "metadata": {},
   "outputs": [],
   "source": [
    "antwoord_reversed_sorted = calculate_time(bucket_sort, lists_to_sort)"
   ]
  },
  {
   "cell_type": "code",
   "execution_count": 27,
   "metadata": {},
   "outputs": [
    {
     "data": {
      "text/plain": [
       "{1000: 0.004658699035644531,\n",
       " 10000: 0.03738594055175781,\n",
       " 30000: 0.08875060081481934}"
      ]
     },
     "execution_count": 27,
     "metadata": {},
     "output_type": "execute_result"
    }
   ],
   "source": [
    "antwoord_reversed_sorted"
   ]
  },
  {
   "cell_type": "code",
   "execution_count": 28,
   "metadata": {},
   "outputs": [
    {
     "data": {
      "image/png": "[encoded data removed]",
      "text/plain": [
       "<Figure size 432x288 with 1 Axes>"
      ]
     },
     "metadata": {
      "needs_background": "light"
     },
     "output_type": "display_data"
    }
   ],
   "source": [
    "grafiek4 = sns.lineplot(data = pd.DataFrame.from_dict(antwoord_reversed_sorted, orient='index'))\n",
    "grafiek4.set(xlabel='X in list', ylabel='time in ms')\n",
    "plt.show()"
   ]
  },
  {
   "cell_type": "markdown",
   "metadata": {},
   "source": [
    " $\\color{Red}{\\text{Runtime conclusie}}$ \n",
    "\n",
    "Wanneer we naar de grafieken hier boven kijken, zien we dat de groei in de runtime van het algoritme afhangt alleen van de aantaal elementen in de lijst. Zo zien we bijvoorbeeld dat het sorteren van 1000 elemennten 10x zo snel gaat in vergelijking met het sorteren van 10000 elementen. \n",
    "\n",
    "Verder kunnen we weinig verschillen in de runtim ven het algoritme zien. Het eingie wat misschien een rol kan spellen op een sneller runtime is het sorteren van een gesoreteerde lijst. \n",
    "\n",
    "Uit de vorig stukje kunnen we concluderen dat het algoritme best linear is. Deze implemntatie van dit algoritme is overduidelijk niet het beste. Dus deze algoritme is niet erg beruikbaar."
   ]
  },
  {
   "cell_type": "markdown",
   "metadata": {},
   "source": [
    " $\\color{Red}{\\text{Extra}}$ "
   ]
  },
  {
   "cell_type": "markdown",
   "metadata": {},
   "source": [
    "Maak je BucketSort implementatie ook geschikt voor het sorteren van getallen met cijfers achter de komma $x ∈ R $"
   ]
  },
  {
   "cell_type": "markdown",
   "metadata": {},
   "source": [
    "#### Bronen \n",
    "\n",
    "1. http://stereopsis.com/radix.html\n",
    "2. https://stackoverflow.com/questions/4640906/radix-sort-sorting-a-float-data"
   ]
  },
  {
   "cell_type": "code",
   "execution_count": 29,
   "metadata": {},
   "outputs": [],
   "source": [
    "def bucket_sort_floats(lijst:[float]):\n",
    "    \"\"\" \n",
    "    Een functie die een lijst van floats kan sorteren.\n",
    "    \"\"\"\n",
    "    # gebruik bit om de floats naar bits te filppen\n",
    "    bit = math.exp(64)  \n",
    "    # maak een lijst van ints van de bits\n",
    "    itemsList = [int(item * bit) for item in lijst] \n",
    "    # Sort de lijst \n",
    "    data = bucket_sort_neg(itemsList) \n",
    "    # return een lijst van de originele getallen \n",
    "    return [item / bit for item in data]"
   ]
  },
  {
   "cell_type": "markdown",
   "metadata": {},
   "source": [
    "Nu de functie testen:"
   ]
  },
  {
   "cell_type": "code",
   "execution_count": 30,
   "metadata": {},
   "outputs": [
    {
     "data": {
      "text/plain": [
       "[-428.12, 0.25, 9.0, 24.96, 96.24]"
      ]
     },
     "execution_count": 30,
     "metadata": {},
     "output_type": "execute_result"
    }
   ],
   "source": [
    "bucket_sort_floats([0.25, -428.12, 24.96, 96.24, 9])"
   ]
  },
  {
   "cell_type": "markdown",
   "metadata": {},
   "source": [
    "Het werkt goed!"
   ]
  },
  {
   "cell_type": "markdown",
   "metadata": {},
   "source": [
    " $\\color{Red}{\\text{Tijds- en ruimtecomplexiteit van het algoritme}}$ "
   ]
  },
  {
   "cell_type": "markdown",
   "metadata": {},
   "source": [
    "Aller eerst loopt het algoritme door alle getallen van de list 2 keer om de positieve en de negatieve getallen te scheiden. (2n)\n",
    "\n",
    "\n",
    "\n",
    "\n",
    "Daarna loopt het door de negatieve getallen en zet dat om in positieve getallen om (abs) voor n aantal negatieve getallen. (n) \n",
    "\n",
    "\n",
    "Vervolgens wordt de volgende stappen twee keer uitgevoerd voor zowel de positieve als de negatieve getallen: (n)\n",
    "        - Loop door alle int's van de lijst (n)\n",
    "        - Sorteer alle buckets(n)\n",
    "        - Loop l aantal keer voor de positieve getallen en l aantal keer voor de negatieve getallen.\n",
    "          De l staat voor de langste digit van de getallen.  \n",
    "        \n",
    "\n",
    "\n",
    "\n",
    "\n",
    "Nadat het algoritme op de \"negatieve\" getallen en de positieve getallen gerund is, wat betekent dat beide lijsten nu gesorteerd zijn, moeten de abs van de \"negatieve\" getallen terug zetten naar negatief. (2n)\n",
    "\n",
    "\n",
    "\n",
    "De laatste stap is het mergen van de positieve en de negatieve lijsten. (k)\n",
    "\n",
    "k staat in dit geval voor de buckets\n",
    "\n",
    "Het uiteindelijke resultaat kan zoals hieronder opgevat worden:\n",
    "\n",
    "__Worse case:__\n",
    "\n",
    "        \n",
    "\\begin{equation*}O((2n)+ (n) + l(n) + 2(k)+ (2n)) \\end{equation*}\n",
    "\n",
    "\\begin{equation*}O(5(n)+ l(n) + (k)\\end{equation*}\n",
    "\n",
    "\n",
    "\\begin{equation*}O(5(n)+ l(n)+ (k))\\end{equation*}\n",
    "\n",
    "\n",
    "\n",
    "__Best case:__\n",
    "\n",
    "De beste case hangt van veel factoren af, denk hierbij aan de aantal digits van de langste getal, de lengte van de lijst en of de lijst al gesorteerd is. \n",
    "\n",
    "Als we een blangrijkste factor moeten uit kiezen dat zou dat de aantal digits van de langste getal. Dat komt omdat er wanneer de langste getal uit 1 dingit bestaat dat de distribution step 1 keer uitgevoerd moet worden, geldt ook voor de gathering step.\n",
    "\n",
    "In dit geval zouden we de best case als volgt beschrijven:\n",
    "        \n",
    "\\begin{equation*} O(n+l+k)\\end{equation*}\n",
    " \n",
    " \n",
    " \n"
   ]
  },
  {
   "cell_type": "markdown",
   "metadata": {},
   "source": [
    "Wat altijd een rol speelt bij het sorteren van een algoritme is de lengte van de array, oftwel de (n) hoe hoger de (n) is hoe langer het duurt voordat een array gesorteerd is. Hiervoor kan je naar de _runtime analyse_ kijken."
   ]
  },
  {
   "cell_type": "markdown",
   "metadata": {},
   "source": [
    "De ruimtecomplexiteit is in het algemeen iets minder belangrijk. Maar we kunnen als volgt samenvatten:\n",
    "\n",
    "Als we n aantaal getallen hebben, dan zou k aantaal bukets opnieuw gevuld moeten worden met n getallen. \n",
    "\n",
    "Oftewel:\n",
    "\n",
    "\\begin{equation*}O(n.k)\\end{equation*}\n"
   ]
  }
 ],
 "metadata": {
  "kernelspec": {
   "display_name": "Python 3",
   "language": "python",
   "name": "python3"
  },
  "language_info": {
   "codemirror_mode": {
    "name": "ipython",
    "version": 3
   },
   "file_extension": ".py",
   "mimetype": "text/x-python",
   "name": "python",
   "nbconvert_exporter": "python",
   "pygments_lexer": "ipython3",
   "version": "3.7.4"
  }
 },
 "nbformat": 4,
 "nbformat_minor": 2
}

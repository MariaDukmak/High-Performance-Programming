{
 "cells": [
  {
   "cell_type": "markdown",
   "metadata": {},
   "source": [
    "\n",
    "# Inlever opdracht: Bucket sort "
   ]
  },
  {
   "cell_type": "markdown",
   "metadata": {},
   "source": [
    "Schrijf een implementatie van het onderstaande Bucket Sort algoritme voor het sorteren van gehele getallen "
   ]
  },
  {
   "cell_type": "markdown",
   "metadata": {},
   "source": [
    "Een bucket sort begint met een een-dimensionale array van n positieve nummers die gesorteerd worden en een twee-dimensionale array van integers, met rijen genummerd van 0 tot 9 en kolommen geïndexeerd van 0 tot n-1. Elke rij in de twee-dimensionale array heeft een bucket.  Het algoritme werkt dan alsvolgt:\n",
    "\n",
    "\n",
    "\n",
    "Plaats elke waarde van de een-dimensionale array in een rij van de bucket array, gebaseerd op het meest rechtse cijfer in het getal (de \"een\"-waarde). Bijvoorbeeld, 97 wordt geplaatst in rij 7, 3 wordt geplaatst in rij 3 en 100 wordt geplaatst in rij 0. Deze stap heet de distribution pass.\n",
    "  \n",
    "  \n",
    "Loop door de bucket array rij voor rij, en kopieer de waardes terug in de originele array. Deze stap heet de gathering pass. De volgorde van de hierboven genoemde getallen is dus nu 100, 3, 97.\n",
    "    \n",
    "Herhaal dit proces voor elke volgende digit-positie (dus voor de tientallen, honderdtallen, etc.). Na de laatste gathering pass is de array gesorteerd."
   ]
  },
  {
   "cell_type": "markdown",
   "metadata": {},
   "source": [
    "## Aanpak oplossing"
   ]
  },
  {
   "cell_type": "markdown",
   "metadata": {},
   "source": [
    "Voordat we met coderen beginnen, is het handig om de code in Pseudocode van de werking van het algoritme te schrijven. "
   ]
  },
  {
   "cell_type": "markdown",
   "metadata": {},
   "source": [
    "Function Bucket_sot(Array):\n",
    "\n",
    "    1. Bepaal de lengte van de array \n",
    "    2. Maak op basis van dat een lege arraymet n aantal lege lists\n",
    "    3. Loop over de array met deze functie (elemet % 10 ** digits)\n",
    "    4. Append de getallen in de buckets\n",
    "    5. Append de gesorteerde lijst in een een nieuwe lijst\n",
    "    6. Return de lijst "
   ]
  },
  {
   "cell_type": "markdown",
   "metadata": {},
   "source": [
    "Function Bucket_sort_neg(Array):\n",
    "\n",
    "    1. Splits de lijst in twee lijsten van negatieve en positieve getallen. \n",
    "    2. Zet de negatieve lijst om naar postieve, maak gebruik van abs.\n",
    "    3. Sorteer de twee lijsten afzonderlijk van elkaar door gebruik van de Bucket sort algoritme te maken.\n",
    "    4. Zet de gesorteerde lijst van de negative getallen weer in negatief en revers de lijst.\n",
    "    5. Return de twee lijsten"
   ]
  },
  {
   "cell_type": "markdown",
   "metadata": {},
   "source": [
    "__Code__"
   ]
  },
  {
   "cell_type": "code",
   "execution_count": 35,
   "metadata": {},
   "outputs": [],
   "source": [
    "from numpy import random\n",
    "import time\n",
    "import matplotlib.pyplot as plt"
   ]
  },
  {
   "cell_type": "markdown",
   "metadata": {},
   "source": [
    "We schrijven een functie die een random getallen genereerd op basis van een gegeven lengte. "
   ]
  },
  {
   "cell_type": "code",
   "execution_count": 3,
   "metadata": {},
   "outputs": [],
   "source": [
    "def generate_list(limits):\n",
    "    \"\"\" \n",
    "    Generates list of random numbers\n",
    "    \n",
    "    :param\n",
    "    -------\n",
    "    limits: \n",
    "            list of the size of each random list\n",
    "    \"\"\"\n",
    "    random_lijsten = []\n",
    "    for limit in range(limits):\n",
    "        random_lijsten.append(random.randint(1,1000))\n",
    "#     print(f\"random unsorted list :{random_lijsten}\")\n",
    "    return random_lijsten"
   ]
  },
  {
   "cell_type": "markdown",
   "metadata": {},
   "source": [
    "We schrijven een functie die een list met bucket kan genereren op basis van een gegeven lengte."
   ]
  },
  {
   "cell_type": "code",
   "execution_count": 4,
   "metadata": {},
   "outputs": [],
   "source": [
    "def generate_buckets(n):\n",
    "    \"\"\"\n",
    "    Generate x items buckets\n",
    "    \n",
    "    :param\n",
    "    ------\n",
    "    n: int \n",
    "        The lenght of the bucket list \n",
    "    \"\"\"\n",
    "    buckets_list = [[] for _ in range(10)]\n",
    "\n",
    "    return buckets_list"
   ]
  },
  {
   "cell_type": "markdown",
   "metadata": {},
   "source": [
    "Nu is het tijd om de sort algoritme te maken."
   ]
  },
  {
   "cell_type": "code",
   "execution_count": 5,
   "metadata": {},
   "outputs": [],
   "source": [
    "def bucket_sort_neg(lijst):\n",
    "    \"\"\" \n",
    "    A function that helps to sort of a mixd list. \n",
    "    \n",
    "    :param\n",
    "    ------\n",
    "    lijst: list\n",
    "        The list that contains a random generate list\n",
    "        \n",
    "    \"\"\"\n",
    "    # split de lijst in positive and negative getallen\n",
    "    pos = list(filter(lambda x:x >= 0, lijst))\n",
    "    neg = list(filter(lambda x:x < 0, lijst))\n",
    " \n",
    "    # Get the abs value from the negative values \n",
    "    abs_neg = [abs(number) for number in neg]\n",
    "\n",
    "    sort_pos = bucket_sort(pos)\n",
    "    sort_neg= bucket_sort(abs_neg)\n",
    "\n",
    "    sorted_neg = [num*-1 for num in sort_neg][::-1]\n",
    "\n",
    "    return sorted_neg + sort_pos"
   ]
  },
  {
   "cell_type": "code",
   "execution_count": 44,
   "metadata": {},
   "outputs": [],
   "source": [
    "def bucket_sort(lijst):\n",
    "    \"\"\" \n",
    "    A function that sorts a list usings buckets. \n",
    "    \n",
    "    :param\n",
    "    ------\n",
    "    lijst: list\n",
    "        The list that contains 3 random generate lists \n",
    "    \n",
    "    \"\"\" \n",
    "    n = len(lijst)\n",
    "    index = 10\n",
    "    \n",
    "    if n == 0:\n",
    "        return lijst\n",
    "    \n",
    "     # Distribution step\n",
    "    for i in range(len(repr(max(lijst)))): # \n",
    "        generated_buckets = generate_buckets(n)\n",
    "        for j in lijst:\n",
    "            generated_buckets[(j % index) // (index // 10)].append(j)\n",
    "        index = index * 10 # get the next digit positie\n",
    "\n",
    "        # Gathering step\n",
    "        lijst = []\n",
    "        for i in generated_buckets:\n",
    "            for j in i:\n",
    "                lijst.append(j)\n",
    "\n",
    "#     print(f\"List with sorted random numbers:{lijst}\")\n",
    "\n",
    "    return lijst"
   ]
  },
  {
   "cell_type": "markdown",
   "metadata": {},
   "source": [
    "__Run het algoritme__"
   ]
  },
  {
   "cell_type": "code",
   "execution_count": 7,
   "metadata": {},
   "outputs": [],
   "source": [
    "list_to_sort = generate_list(15)"
   ]
  },
  {
   "cell_type": "code",
   "execution_count": 8,
   "metadata": {},
   "outputs": [
    {
     "data": {
      "text/plain": [
       "[270, 125, 685, 956, 957, 71, 902, 283, 705, 131, 596, 765, 230, 886, 877]"
      ]
     },
     "execution_count": 8,
     "metadata": {},
     "output_type": "execute_result"
    }
   ],
   "source": [
    "list_to_sort"
   ]
  },
  {
   "cell_type": "code",
   "execution_count": 9,
   "metadata": {},
   "outputs": [
    {
     "data": {
      "text/plain": [
       "[71, 125, 131, 230, 270, 283, 596, 685, 705, 765, 877, 886, 902, 956, 957]"
      ]
     },
     "execution_count": 9,
     "metadata": {},
     "output_type": "execute_result"
    }
   ],
   "source": [
    "bucket_sort(list_to_sort)"
   ]
  },
  {
   "cell_type": "code",
   "execution_count": 10,
   "metadata": {},
   "outputs": [
    {
     "data": {
      "text/plain": [
       "[-165, -88, -15, -1, 0, 1, 1, 2, 31, 50]"
      ]
     },
     "execution_count": 10,
     "metadata": {},
     "output_type": "execute_result"
    }
   ],
   "source": [
    "bucket_sort_neg([50, 0, 1, -15 , 1 , 2 , 31 , -1 , -88 ,-165])"
   ]
  },
  {
   "cell_type": "code",
   "execution_count": 45,
   "metadata": {},
   "outputs": [
    {
     "data": {
      "text/plain": [
       "[0, 1, 1, 1, 2, 15, 31, 50, 88, 165]"
      ]
     },
     "execution_count": 45,
     "metadata": {},
     "output_type": "execute_result"
    }
   ],
   "source": [
    "bucket_sort_neg([50, 0, 1, 15 , 1 , 2 , 31 , 1 , 88 ,165])"
   ]
  },
  {
   "cell_type": "markdown",
   "metadata": {},
   "source": [
    "__Snelheid van het algoritme__"
   ]
  },
  {
   "cell_type": "markdown",
   "metadata": {},
   "source": [
    "Hier gaan we de snelheid van het algroritme testen door het algoritme meerdere lists van verschillende lengtes te laten runnen."
   ]
  },
  {
   "cell_type": "code",
   "execution_count": 11,
   "metadata": {},
   "outputs": [],
   "source": [
    "def calculate_time(sort_algoritme, list_of_random_list):\n",
    "    \"\"\"\n",
    "    calculates the time that each algorithm takes to sort the lists\n",
    "    \n",
    "    :param\n",
    "    -------\n",
    "    sort_algorithme:\n",
    "            the name of the sort algorithm\n",
    "    list_of_random_list: \n",
    "            the list with the random nummbers \n",
    "    \"\"\"\n",
    "    list_with_times = []\n",
    "    for this_list in list_of_random_list:\n",
    "        time1 = time.time()\n",
    "        sort_algoritme(this_list)\n",
    "        time2 = time.time()\n",
    "        list_with_times.append(time2 - time1)\n",
    "\n",
    "    return list_with_times"
   ]
  },
  {
   "cell_type": "markdown",
   "metadata": {},
   "source": [
    "We maken er 3 veschillende lijsten van random getallen, die gaan we het algoritme laten sorteren "
   ]
  },
  {
   "cell_type": "code",
   "execution_count": 12,
   "metadata": {},
   "outputs": [],
   "source": [
    "duizend_list = generate_list(1000)\n",
    "tienduizend_list = generate_list(10000)\n",
    "dertigduizend_list = generate_list(30000)\n",
    "\n",
    "lists_to_sort= [duizend_list, tienduizend_list, dertigduizend_list]"
   ]
  },
  {
   "cell_type": "code",
   "execution_count": 13,
   "metadata": {},
   "outputs": [],
   "source": [
    "antwoord = calculate_time(bucket_sort, lists_to_sort)"
   ]
  },
  {
   "cell_type": "code",
   "execution_count": 14,
   "metadata": {},
   "outputs": [
    {
     "data": {
      "text/plain": [
       "[0.001994609832763672, 0.03191256523132324, 0.10870933532714844]"
      ]
     },
     "execution_count": 14,
     "metadata": {},
     "output_type": "execute_result"
    }
   ],
   "source": [
    "antwoord"
   ]
  },
  {
   "cell_type": "markdown",
   "metadata": {},
   "source": [
    "Het algoritme sorteert de lijsten best snel! Maar wat zou er gebeuren als we de lijst omdraaien?"
   ]
  },
  {
   "cell_type": "code",
   "execution_count": 15,
   "metadata": {},
   "outputs": [],
   "source": [
    "reversed_list = [elem[::-1] for elem in lists_to_sort]"
   ]
  },
  {
   "cell_type": "code",
   "execution_count": 16,
   "metadata": {},
   "outputs": [],
   "source": [
    "antwoord_reversed = calculate_time(bucket_sort, lists_to_sort)"
   ]
  },
  {
   "cell_type": "code",
   "execution_count": 17,
   "metadata": {},
   "outputs": [
    {
     "data": {
      "text/plain": [
       "[0.004000186920166016, 0.02092456817626953, 0.04488086700439453]"
      ]
     },
     "execution_count": 17,
     "metadata": {},
     "output_type": "execute_result"
    }
   ],
   "source": [
    "antwoord_reversed"
   ]
  },
  {
   "cell_type": "markdown",
   "metadata": {},
   "source": [
    "Het algoritme doet nu iets langer over, maar nog steeds niet slecht! "
   ]
  },
  {
   "cell_type": "markdown",
   "metadata": {},
   "source": [
    "__Tijds- en ruimtecomplexiteit van het algoritme__"
   ]
  },
  {
   "cell_type": "markdown",
   "metadata": {},
   "source": [
    "Aller eerst loopt het algoritme door alle getallen van list 2 keer om de positieve en de negatieve getallen te scheiden. (2n)\n",
    "\n",
    "\n",
    "\n",
    "\n",
    "Daarna loop het door de negatieve getallen en zet dat in positieve getallen om (abs) voor x aantal negatieve getallen. \n",
    "\n",
    "\n",
    "Vervolgens wordt de volgende stappen twee keer uitgevoerd voor zowel de positieve als de negatieve getallen:\n",
    "        - Loop door alle int's van de lijst (n)\n",
    "        - Sorteer alle buckets(n)\n",
    "        - Loop k aantal keer voor de positieve getallen en l aantal keer voor de negatieve getallen. \n",
    "        \n",
    "\n",
    "\n",
    "\n",
    "\n",
    "Nadat het algoritme op de abs van de negatieve getallen en de positieve getallen gerund, wat betekent dat beide lijsten nu gesorteerd zijn, moeten de abs van de negatieve getallen terug zetten naar negatief. (2n)\n",
    "\n",
    "\n",
    "\n",
    "\n",
    "\n",
    "De laatste stap is het mergen van de positieve en de negatieve lijsten. (2n)\n",
    "\n",
    "\n",
    "\n",
    "De uiteindelijk resultaat kan zoals hieronder opgevat worden:\n",
    "\n",
    "__Worse case:__\n",
    "        \n",
    "\\begin{equation*}O((x+n)+ (x+n) + (x+n) + k(2n) + l(2n)) \\end{equation*}\n",
    "\n",
    "\\begin{equation*}O(3(x+n)+ k(2n) + l(2n))\\end{equation*}\n",
    "\n",
    "       \n",
    "\n",
    "\n",
    "__Best case:__\n",
    "\n",
    "        Wanneer er geen negatieve getallen zijn dus x = 0 \n",
    "        \n",
    "\\begin{equation*} O(3n +l(2n))\\end{equation*}\n",
    " \n",
    " \n",
    " \n"
   ]
  },
  {
   "cell_type": "markdown",
   "metadata": {},
   "source": [
    "Er zijn natuurlijk nog andere factoren die invloed zouden hebben bij het werking van het algoritme. Denk er bij aantal items van de lijst, of de lijst al gesorteerd is of de lijst reveresed is. "
   ]
  },
  {
   "cell_type": "markdown",
   "metadata": {},
   "source": [
    "Omdat het aantal items in de lijst een grote invloed op de werking van het algoritme heeft, kunnen we het als volgt beschrijven:\n",
    "\n",
    "Stel je voor dat G voor het aantal getallen in een lijst staat, dan zou de complexiteit van het algoritme als volgt uitzien $O((2G)n)$ \n",
    "\n",
    "Dit kunnen we uiteindelijk naar $O(n)$ versimplen. Maar het is nog steeds belangrijk om op te merken omdat dit algoritme in bepaalde lijsten slechter presteert dan een $O(n!)$ algoritme."
   ]
  },
  {
   "cell_type": "markdown",
   "metadata": {},
   "source": [
    "__Big O waarde van Bucket Sort__"
   ]
  },
  {
   "cell_type": "markdown",
   "metadata": {},
   "source": [
    "Tijd compexiteit:\n",
    "   - Best case _O(n+k)_ : Is in dit geval als er alleen maar 1 getal per buckt zit waardoor je de buckts niet moet sorteren. \n",
    "   - Worst case _O(n^2)_ : Is in dit geval als er veel getallen in dezelfde bucket zitten, waardoor het sorten van de items in de buckt veel lnager duurt. \n",
    "    \n",
    "Ruimte complexiteit:\n",
    "   - Worst case _O(nk)_ "
   ]
  },
  {
   "cell_type": "code",
   "execution_count": 37,
   "metadata": {},
   "outputs": [],
   "source": [
    "O_n = lambda n : n"
   ]
  },
  {
   "cell_type": "code",
   "execution_count": 38,
   "metadata": {},
   "outputs": [],
   "source": [
    "x_range = list(range(1, 1000))"
   ]
  },
  {
   "cell_type": "code",
   "execution_count": 39,
   "metadata": {},
   "outputs": [],
   "source": [
    "select_y = list(map(O_n, x_range))"
   ]
  },
  {
   "cell_type": "code",
   "execution_count": 42,
   "metadata": {},
   "outputs": [
    {
     "data": {
      "text/plain": [
       "<matplotlib.legend.Legend at 0x171f4567bc8>"
      ]
     },
     "execution_count": 42,
     "metadata": {},
     "output_type": "execute_result"
    },
    {
     "data": {
      "image/png": "[encoded data removed]",
      "text/plain": [
       "<Figure size 432x288 with 1 Axes>"
      ]
     },
     "metadata": {
      "needs_background": "light"
     },
     "output_type": "display_data"
    }
   ],
   "source": [
    "plt.plot(x_range, select_y, label = \"Best-case. $O(n)$\")\n",
    "plt.legend()"
   ]
  },
  {
   "cell_type": "markdown",
   "metadata": {},
   "source": [
    "## Extra "
   ]
  },
  {
   "cell_type": "markdown",
   "metadata": {},
   "source": [
    "1. sorteren van getallen met cijfers achter de komma \n",
    "2. Laat bij je analyse zien dat je onderzoek hebt gedaan over wat wel en niet mee te nemen in je analyse (is een variable assignment een stap? hoeveel ruimte kost je datastructuur?)\n"
   ]
  },
  {
   "cell_type": "code",
   "execution_count": 18,
   "metadata": {},
   "outputs": [],
   "source": [
    "# TODO : documenteer alles, maak de extra's en voeg een paar analyse plaatjes toe!\n",
    "#TODO : Laat het algoritme ook negative getallen sorteren "
   ]
  }
 ],
 "metadata": {
  "kernelspec": {
   "display_name": "Python 3",
   "language": "python",
   "name": "python3"
  },
  "language_info": {
   "codemirror_mode": {
    "name": "ipython",
    "version": 3
   },
   "file_extension": ".py",
   "mimetype": "text/x-python",
   "name": "python",
   "nbconvert_exporter": "python",
   "pygments_lexer": "ipython3",
   "version": "3.7.4"
  }
 },
 "nbformat": 4,
 "nbformat_minor": 2
}

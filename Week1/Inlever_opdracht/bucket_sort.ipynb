{
 "cells": [
  {
   "cell_type": "markdown",
   "metadata": {},
   "source": [
    "\n",
    "# Inlever opdracht: Bucket sort "
   ]
  },
  {
   "cell_type": "markdown",
   "metadata": {},
   "source": [
    "Schrijf een implementatie van het onderstaande Bucket Sort algoritme voor het sorteren van gehele getallen "
   ]
  },
  {
   "cell_type": "markdown",
   "metadata": {},
   "source": [
    "Een bucket sort begint met een een-dimensionale array van n positieve nummers die gesorteerd worden en een twee-dimensionale array van integers, met rijen genummerd van 0 tot 9 en kolommen geïndexeerd van 0 tot n-1. Elke rij in de twee-dimensionale array heeft een bucket.  Het algoritme werkt dan alsvolgt:\n",
    "\n",
    "\n",
    "\n",
    "Plaats elke waarde van de een-dimensionale array in een rij van de bucket array, gebaseerd op het meest rechtse cijfer in het getal (de \"een\"-waarde). Bijvoorbeeld, 97 wordt geplaatst in rij 7, 3 wordt geplaatst in rij 3 en 100 wordt geplaatst in rij 0. Deze stap heet de distribution pass.\n",
    "  \n",
    "  \n",
    "Loop door de bucket array rij voor rij, en kopieer de waardes terug in de originele array. Deze stap heet de gathering pass. De volgorde van de hierboven genoemde getallen is dus nu 100, 3, 97.\n",
    "    \n",
    "Herhaal dit proces voor elke volgende digit-positie (dus voor de tientallen, honderdtallen, etc.). Na de laatste gathering pass is de array gesorteerd."
   ]
  },
  {
   "cell_type": "markdown",
   "metadata": {},
   "source": [
    "## Aanpak oplossing"
   ]
  },
  {
   "cell_type": "markdown",
   "metadata": {},
   "source": [
    "Voordat we met coderen beginnen, is het handig om de code in Pseudocode van de werking van het algoritme te schrijven. "
   ]
  },
  {
   "cell_type": "markdown",
   "metadata": {},
   "source": [
    "Function Bucket_sot(Array):\n",
    "\n",
    "    1.Bepaal de lengte van de array\n",
    "    2. Maak op basis van dat een lege arraymet n aantal lege lists\n",
    "    3. loop over de array met deze functie (elemet % 10 ** digits)\n",
    "    4. append de getallen in de buckets\n",
    "    5. append de gesorteerde lijst in een een nieuwe lijst\n",
    "    6. return de lijst "
   ]
  },
  {
   "cell_type": "markdown",
   "metadata": {},
   "source": [
    "__Code__"
   ]
  },
  {
   "cell_type": "code",
   "execution_count": 2,
   "metadata": {},
   "outputs": [],
   "source": [
    "from numpy import random\n",
    "import math\n",
    "import time"
   ]
  },
  {
   "cell_type": "markdown",
   "metadata": {},
   "source": [
    "We schrijven een functie die een random getallen genereerd op basis van een gegeven lengte. "
   ]
  },
  {
   "cell_type": "code",
   "execution_count": 3,
   "metadata": {},
   "outputs": [],
   "source": [
    "def generate_list(limits):\n",
    "    \"\"\" \n",
    "    Generates list of random numbers\n",
    "    \n",
    "    :param\n",
    "    -------\n",
    "    limits: \n",
    "            list of the size of each random list\n",
    "    \"\"\"\n",
    "    random_lijsten = []\n",
    "    for limit in range(limits):\n",
    "        random_lijsten.append(random.randint(1,1000))\n",
    "#     print(f\"random unsorted list :{random_lijsten}\")\n",
    "    return random_lijsten"
   ]
  },
  {
   "cell_type": "markdown",
   "metadata": {},
   "source": [
    "We schrijven een functie die een list met bucket kan genereren op basis van een gegeven lengte."
   ]
  },
  {
   "cell_type": "code",
   "execution_count": 4,
   "metadata": {},
   "outputs": [],
   "source": [
    "def generate_buckets(n):\n",
    "    \"\"\"\n",
    "    Generate x items buckets\n",
    "    \n",
    "    :param\n",
    "    ------\n",
    "    n: int \n",
    "        The lenght of the bucket list \n",
    "    \n",
    "    \"\"\"\n",
    "    buckets_list = [[] for _ in range(n)]\n",
    "\n",
    "    return buckets_list"
   ]
  },
  {
   "cell_type": "markdown",
   "metadata": {},
   "source": [
    "Nu is het tijd om de sort algoritme te maken."
   ]
  },
  {
   "cell_type": "code",
   "execution_count": 5,
   "metadata": {},
   "outputs": [],
   "source": [
    "def bucket_sort(lijst):\n",
    "    \"\"\" \n",
    "    A function that sorts a list usings buckets. \n",
    "    \n",
    "    :param\n",
    "    ------\n",
    "    lijst: list\n",
    "        The list that contains 3 random generate lists \n",
    "    \n",
    "    \"\"\" \n",
    "    # Distribution step\n",
    "    n = len(lijst)\n",
    "    index = 10\n",
    "    for i in range(len(repr(max(lijst)))):\n",
    "        generated_buckets = generate_buckets(n)\n",
    "        for j in lijst:\n",
    "            generated_buckets[(j % index) // (index // 10)].append(j)\n",
    "        index = index * 10 # get the next digit positie\n",
    "\n",
    "        # Gathering step\n",
    "        lijst = []\n",
    "        for i in generated_buckets:\n",
    "            for j in i:\n",
    "                lijst.append(j)\n",
    "\n",
    "#     print(f\"List with sorted random numbers:{lijst}\")\n",
    "\n",
    "    return lijst"
   ]
  },
  {
   "cell_type": "markdown",
   "metadata": {},
   "source": [
    "__Run het algoritme__"
   ]
  },
  {
   "cell_type": "code",
   "execution_count": 6,
   "metadata": {},
   "outputs": [],
   "source": [
    "list_to_sort = generate_list(15)"
   ]
  },
  {
   "cell_type": "code",
   "execution_count": 7,
   "metadata": {},
   "outputs": [
    {
     "data": {
      "text/plain": [
       "[490, 577, 410, 374, 802, 55, 687, 998, 428, 269, 820, 154, 194, 372, 141]"
      ]
     },
     "execution_count": 7,
     "metadata": {},
     "output_type": "execute_result"
    }
   ],
   "source": [
    "list_to_sort"
   ]
  },
  {
   "cell_type": "code",
   "execution_count": 8,
   "metadata": {},
   "outputs": [
    {
     "data": {
      "text/plain": [
       "[55, 141, 154, 194, 269, 372, 374, 410, 428, 490, 577, 687, 802, 820, 998]"
      ]
     },
     "execution_count": 8,
     "metadata": {},
     "output_type": "execute_result"
    }
   ],
   "source": [
    "bucket_sort(list_to_sort)"
   ]
  },
  {
   "cell_type": "markdown",
   "metadata": {},
   "source": [
    "_Het werkt!_"
   ]
  },
  {
   "cell_type": "markdown",
   "metadata": {},
   "source": [
    "__Tijds- en ruimtecomplexiteit van het algoritme__"
   ]
  },
  {
   "cell_type": "markdown",
   "metadata": {},
   "source": [
    "Hier gaan we de snelheid van het algroritme testen door het algoritme meerdere lists van verschillende lengtes te laten runne."
   ]
  },
  {
   "cell_type": "code",
   "execution_count": 8,
   "metadata": {},
   "outputs": [],
   "source": [
    "def calculate_time(sort_algoritme, list_of_random_list):\n",
    "    \"\"\"\n",
    "    calculates the time that each algorithm takes to sort the lists\n",
    "    \n",
    "    :param\n",
    "    -------\n",
    "    sort_algorithme:\n",
    "            the name of the sort algorithm\n",
    "    list_of_random_list: \n",
    "            the list with the random nummbers \n",
    "    \"\"\"\n",
    "    list_with_times = []\n",
    "    for this_list in list_of_random_list:\n",
    "        time1 = time.time()\n",
    "        sort_algoritme(this_list)\n",
    "        time2 = time.time()\n",
    "        list_with_times.append(time2 - time1)\n",
    "\n",
    "    return list_with_times"
   ]
  },
  {
   "cell_type": "markdown",
   "metadata": {},
   "source": [
    "We maken er 3 veschillende lijsten van random getallen, die gaan we het algoritme laten sorteren "
   ]
  },
  {
   "cell_type": "code",
   "execution_count": 9,
   "metadata": {},
   "outputs": [],
   "source": [
    "duizend_list = generate_list(1000)\n",
    "tienduizend_list = generate_list(10000)\n",
    "dertigduizend_list = generate_list(30000)\n",
    "\n",
    "lists_to_sort= [duizend_list, tienduizend_list, dertigduizend_list]"
   ]
  },
  {
   "cell_type": "code",
   "execution_count": 10,
   "metadata": {},
   "outputs": [],
   "source": [
    "antwoord = calculate_time(bucket_sort, lists_to_sort)"
   ]
  },
  {
   "cell_type": "code",
   "execution_count": 11,
   "metadata": {},
   "outputs": [
    {
     "data": {
      "text/plain": [
       "[0.004029512405395508, 0.03943967819213867, 0.15902066230773926]"
      ]
     },
     "execution_count": 11,
     "metadata": {},
     "output_type": "execute_result"
    }
   ],
   "source": [
    "antwoord"
   ]
  },
  {
   "cell_type": "markdown",
   "metadata": {},
   "source": [
    "Het algoritme sorteert de lijsten best snel! Maar wat zou er gebeuren als we de lijst omdraaien?"
   ]
  },
  {
   "cell_type": "code",
   "execution_count": 12,
   "metadata": {},
   "outputs": [],
   "source": [
    "reversed_list = [elem[::-1] for elem in lists_to_sort]"
   ]
  },
  {
   "cell_type": "code",
   "execution_count": 13,
   "metadata": {},
   "outputs": [],
   "source": [
    "antwoord_reversed = calculate_time(bucket_sort, lists_to_sort)"
   ]
  },
  {
   "cell_type": "code",
   "execution_count": 14,
   "metadata": {},
   "outputs": [
    {
     "data": {
      "text/plain": [
       "[0.005024909973144531, 0.07369494438171387, 0.11262083053588867]"
      ]
     },
     "execution_count": 14,
     "metadata": {},
     "output_type": "execute_result"
    }
   ],
   "source": [
    "antwoord_reversed"
   ]
  },
  {
   "cell_type": "markdown",
   "metadata": {},
   "source": [
    "Het algoritme doet nu iets langer over, maar nog steeds niet slecht! "
   ]
  },
  {
   "cell_type": "markdown",
   "metadata": {},
   "source": [
    "__Big O waarde van Bucket Sort__"
   ]
  },
  {
   "cell_type": "markdown",
   "metadata": {},
   "source": [
    "Tijd compexiteit:\n",
    "   - Best case _O(n+k)_ : Is in dit geval als er alleen maar 1 getal per buckt zit waardoor je de buckts niet moet sorteren. \n",
    "   - Worst case _O(n^2)_ : Is in dit geval als er veel getallen in dezelfde bucket zitten, waardoor het sorten van de items in de buckt veel lnager duurt. \n",
    "    \n",
    "Ruimte complexiteit:\n",
    "   - Worst case _O(nk)_ "
   ]
  },
  {
   "cell_type": "markdown",
   "metadata": {},
   "source": [
    "## Extra "
   ]
  },
  {
   "cell_type": "markdown",
   "metadata": {},
   "source": [
    "1. sorteren van getallen met cijfers achter de komma \n",
    "2. Laat bij je analyse zien dat je onderzoek hebt gedaan over wat wel en niet mee te nemen in je analyse (is een variable assignment een stap? hoeveel ruimte kost je datastructuur?)\n"
   ]
  },
  {
   "cell_type": "code",
   "execution_count": 15,
   "metadata": {},
   "outputs": [],
   "source": [
    "# TODO : documenteer alles, maak de extra's en voeg een paar analyse plaatjes toe!"
   ]
  }
 ],
 "metadata": {
  "kernelspec": {
   "display_name": "Python 3",
   "language": "python",
   "name": "python3"
  },
  "language_info": {
   "codemirror_mode": {
    "name": "ipython",
    "version": 3
   },
   "file_extension": ".py",
   "mimetype": "text/x-python",
   "name": "python",
   "nbconvert_exporter": "python",
   "pygments_lexer": "ipython3",
   "version": "3.7.4"
  }
 },
 "nbformat": 4,
 "nbformat_minor": 2
}

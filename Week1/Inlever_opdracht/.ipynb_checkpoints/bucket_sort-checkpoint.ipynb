{
 "cells": [
  {
   "cell_type": "markdown",
   "metadata": {},
   "source": [
    "\n",
    "# Inlever opdracht: Bucket sort "
   ]
  },
  {
   "cell_type": "markdown",
   "metadata": {},
   "source": [
    "Schrijf een implementatie van het onderstaande Bucket Sort algoritme voor het sorteren van gehele getallen "
   ]
  },
  {
   "cell_type": "markdown",
   "metadata": {},
   "source": [
    "    Een bucket sort begint met een een-dimensionale array van n positieve nummers die gesorteerd worden en een twee-dimensionale array van integers, met rijen genummerd van 0 tot 9 en kolommen geïndexeerd van 0 tot n-1. Elke rij in de twee-dimensionale array heeft een bucket.  Het algoritme werkt dan alsvolgt:\n",
    "\n",
    "    Plaats elke waarde van de een-dimensionale array in een rij van de bucket array, gebaseerd op het meest rechtse cijfer in het getal (de \"een\"-waarde). Bijvoorbeeld, 97 wordt geplaatst in rij 7, 3 wordt geplaatst in rij 3 en 100 wordt geplaatst in rij 0. Deze stap heet de distribution pass.\n",
    "    Loop door de bucket array rij voor rij, en kopieer de waardes terug in de originele array. Deze stap heet de gathering pass. De volgorde van de hierboven genoemde getallen is dus nu 100, 3, 97.\n",
    "    Herhaal dit proces voor elke volgende digit-positie (dus voor de tientallen, honderdtallen, etc.). Na de laatste gathering pass is de array gesorteerd."
   ]
  },
  {
   "cell_type": "markdown",
   "metadata": {},
   "source": [
    "## Aanpak oplossing"
   ]
  },
  {
   "cell_type": "markdown",
   "metadata": {},
   "source": [
    "Voordat we met coderen beginnen, is het handig om de code in Pseudocode te schrijven. "
   ]
  },
  {
   "cell_type": "code",
   "execution_count": 1,
   "metadata": {},
   "outputs": [],
   "source": [
    "## TODO "
   ]
  },
  {
   "cell_type": "markdown",
   "metadata": {},
   "source": [
    "__Code__"
   ]
  },
  {
   "cell_type": "code",
   "execution_count": 2,
   "metadata": {},
   "outputs": [],
   "source": [
    "from numpy import random\n",
    "import math"
   ]
  },
  {
   "cell_type": "code",
   "execution_count": 3,
   "metadata": {},
   "outputs": [],
   "source": [
    "def generate_list(limits):\n",
    "    \"\"\" \n",
    "    generates list of random numbers\n",
    "    \n",
    "    :param\n",
    "    -------\n",
    "    limits: \n",
    "            list of the size of each random list\n",
    "    \"\"\"\n",
    "    random_lijsten = []\n",
    "    for limit in range(limits):\n",
    "        random_lijsten.append(random.randint(1,10000))\n",
    "    print(\"random unsorted list :{}\".format(random_lijsten))\n",
    "    return random_lijsten"
   ]
  },
  {
   "cell_type": "code",
   "execution_count": 4,
   "metadata": {},
   "outputs": [],
   "source": [
    "def generate_buckets(n):\n",
    "    \"\"\"Generate x buckets\"\"\"\n",
    "    buckets_list = [[] for _ in range(n)]\n",
    "\n",
    "    return buckets_list"
   ]
  },
  {
   "cell_type": "code",
   "execution_count": 5,
   "metadata": {},
   "outputs": [],
   "source": [
    "def bucket_sort(lijst):\n",
    "    \"\"\"Distribution step\"\"\"\n",
    "    n = len(lijst)\n",
    "\n",
    "    if n == 0:\n",
    "        return lijst\n",
    "\n",
    "    index = 10\n",
    "    for i in range(len(repr(max(lijst)))):\n",
    "        generated_buckets = generate_buckets(n)\n",
    "        for j in lijst:\n",
    "            generated_buckets[(j % index) // (index // 10)].append(j)\n",
    "        index = index * 10 # get the next digit positie\n",
    "\n",
    "        \"\"\"Gathering step\"\"\"\n",
    "        lijst = []\n",
    "        for i in generated_buckets:\n",
    "            for j in i:\n",
    "                lijst.append(j)\n",
    "\n",
    "    print(\"List with sorted random numbers: {}\".format(lijst))\n",
    "\n",
    "#     return lijst"
   ]
  },
  {
   "cell_type": "code",
   "execution_count": 6,
   "metadata": {},
   "outputs": [
    {
     "name": "stdout",
     "output_type": "stream",
     "text": [
      "random unsorted list :[7623, 8721, 8483, 656, 8745, 1965, 5922, 5275, 5287, 4088, 2284, 8148, 8267, 1123, 9602, 9512, 8005, 8049, 1022, 8835]\n",
      "List with sorted random numbers: [656, 1022, 1123, 1965, 2284, 4088, 5275, 5287, 5922, 7623, 8005, 8049, 8148, 8267, 8483, 8721, 8745, 8835, 9512, 9602]\n"
     ]
    }
   ],
   "source": [
    "bucket_sort(generate_list(20))"
   ]
  },
  {
   "cell_type": "markdown",
   "metadata": {},
   "source": [
    "__Tijds- en ruimtecomplexiteit van het algoritme__"
   ]
  },
  {
   "cell_type": "code",
   "execution_count": null,
   "metadata": {},
   "outputs": [],
   "source": []
  },
  {
   "cell_type": "markdown",
   "metadata": {},
   "source": [
    "__Big O waarde van Bucket Sort__"
   ]
  },
  {
   "cell_type": "code",
   "execution_count": null,
   "metadata": {},
   "outputs": [],
   "source": []
  },
  {
   "cell_type": "markdown",
   "metadata": {},
   "source": [
    "## Extra "
   ]
  },
  {
   "cell_type": "markdown",
   "metadata": {},
   "source": [
    "1. sorteren van getallen met cijfers achter de komma \n",
    "2. Laat bij je analyse zien dat je onderzoek hebt gedaan over wat wel en niet mee te nemen in je analyse (is een variable assignment een stap? hoeveel ruimte kost je datastructuur?)\n"
   ]
  },
  {
   "cell_type": "code",
   "execution_count": 7,
   "metadata": {},
   "outputs": [],
   "source": [
    "# TODO : documenteer alles, probeer bucket sort op te splitsen, maak de extra's en voeg een paar analyse plaatjes toe!"
   ]
  }
 ],
 "metadata": {
  "kernelspec": {
   "display_name": "Python 3",
   "language": "python",
   "name": "python3"
  },
  "language_info": {
   "codemirror_mode": {
    "name": "ipython",
    "version": 3
   },
   "file_extension": ".py",
   "mimetype": "text/x-python",
   "name": "python",
   "nbconvert_exporter": "python",
   "pygments_lexer": "ipython3",
   "version": "3.7.4"
  }
 },
 "nbformat": 4,
 "nbformat_minor": 2
}

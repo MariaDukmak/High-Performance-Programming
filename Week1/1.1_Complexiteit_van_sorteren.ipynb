{
 "cells": [
  {
   "cell_type": "markdown",
   "metadata": {},
   "source": [
    "# 1.1 Complexiteit van sorteren\n"
   ]
  },
  {
   "cell_type": "markdown",
   "metadata": {},
   "source": [
    "__Opdrachten__\n",
    "\n",
    "1. Maak een tabel met de meetwaarden van de volgende tests (schrijf de benodigde code om deze tests uit te kunnen voeren):\n",
    "            Genereer random lijsten van lengtes 1'000, 10'000 en 30'000 items. Hoe lang heeft elk algoritme nodig om deze te sorteren?\n",
    "            Genereer een (gesorteerde) lijst van 30'000 items. Hoe lang heeft elk algoritme nodig om deze te sorteren?\n",
    "            Draai de gesorteerde lijst van 30'000 items van de vorige vraag achterstevoren (list.reverse()). Hoe lang heeft elk algoritme nodig om deze te sorteren?\n",
    "\n",
    "\n",
    "2. Bekijk / bepaal aan de hand van de algoritmes (en beschrijvingen) hierboven, wat de theoretische run time efficiëntie (Big O) van elk van deze algoritmes is. Bepaal hiervoor 'best case', 'worst case' en 'average case' run time efficiëntie.\n",
    "\n",
    "3. Maakt het voor de complexiteit (Big O) van een algoritme uit of je een iteratieve of een recursieve versie beschouwd?"
   ]
  },
  {
   "cell_type": "markdown",
   "metadata": {},
   "source": [
    "Voor het maken van deze opdracht heb ik gekozen om de gegeven code van de sorteer algoritmes in een aparte .py bestand te zetten en vervolgens in de notebook te importeren."
   ]
  },
  {
   "cell_type": "code",
   "execution_count": 1,
   "metadata": {},
   "outputs": [],
   "source": [
    "import sort_algorithms as sa\n",
    "import time\n",
    "import numpy as np\n",
    "import random as rd"
   ]
  },
  {
   "cell_type": "markdown",
   "metadata": {},
   "source": [
    "## Vraag 1"
   ]
  },
  {
   "cell_type": "code",
   "execution_count": 2,
   "metadata": {},
   "outputs": [],
   "source": [
    "def generate_list(limits):\n",
    "    \"\"\" \n",
    "    generates list of random list\n",
    "    \n",
    "    :param\n",
    "    -------\n",
    "    limits: \n",
    "            list of the size of each random list\n",
    "    \"\"\"\n",
    "    random_lijsten = []\n",
    "    for limit in limits:\n",
    "        random_lijsten.append(np.random.rand(limit))\n",
    "    return random_lijsten"
   ]
  },
  {
   "cell_type": "code",
   "execution_count": 3,
   "metadata": {},
   "outputs": [],
   "source": [
    "def calculate_time(sort_algoritme, list_of_random_list):\n",
    "    \"\"\"\n",
    "    calculates the time that each algorithm takes to sort the lists\n",
    "    \n",
    "    :param\n",
    "    -------\n",
    "    sort_algorithme:\n",
    "            the name of the sort algorithm\n",
    "    list_of_random_list: \n",
    "            the list with the random nummbers \n",
    "    \"\"\"\n",
    "    list_with_times = []\n",
    "    for this_list in list_of_random_list:\n",
    "        time1 = time.time()\n",
    "        sort_algoritme(this_list)\n",
    "        time2 = time.time()\n",
    "        list_with_times.append(time2 - time1)\n",
    "\n",
    "    return list_with_times"
   ]
  },
  {
   "cell_type": "code",
   "execution_count": 4,
   "metadata": {},
   "outputs": [],
   "source": [
    "lists_to_sort = generate_list([1000, 10000, 30000])"
   ]
  },
  {
   "cell_type": "code",
   "execution_count": 5,
   "metadata": {},
   "outputs": [],
   "source": [
    "reversed_list = [elem[::-1] for elem in lists_to_sort]"
   ]
  },
  {
   "cell_type": "markdown",
   "metadata": {},
   "source": [
    "## Selection sort\n"
   ]
  },
  {
   "cell_type": "code",
   "execution_count": 6,
   "metadata": {},
   "outputs": [],
   "source": [
    "selection_sort= calculate_time(sa.selection_sort, lists_to_sort)"
   ]
  },
  {
   "cell_type": "code",
   "execution_count": 7,
   "metadata": {},
   "outputs": [
    {
     "data": {
      "text/plain": [
       "[0.2081925868988037, 15.593735456466675, 130.31441044807434]"
      ]
     },
     "execution_count": 7,
     "metadata": {},
     "output_type": "execute_result"
    }
   ],
   "source": [
    "selection_sort"
   ]
  },
  {
   "cell_type": "code",
   "execution_count": 8,
   "metadata": {},
   "outputs": [],
   "source": [
    "selection_sort_reversed= calculate_time(sa.selection_sort, reversed_list)"
   ]
  },
  {
   "cell_type": "code",
   "execution_count": 9,
   "metadata": {},
   "outputs": [
    {
     "data": {
      "text/plain": [
       "[0.13267254829406738, 22.502397060394287, 148.91418743133545]"
      ]
     },
     "execution_count": 9,
     "metadata": {},
     "output_type": "execute_result"
    }
   ],
   "source": [
    "selection_sort_reversed"
   ]
  },
  {
   "cell_type": "markdown",
   "metadata": {},
   "source": [
    "## Insertion_sort"
   ]
  },
  {
   "cell_type": "code",
   "execution_count": 10,
   "metadata": {},
   "outputs": [],
   "source": [
    "insertion_sort= calculate_time(sa.insertion_sort, lists_to_sort)"
   ]
  },
  {
   "cell_type": "code",
   "execution_count": 11,
   "metadata": {},
   "outputs": [
    {
     "data": {
      "text/plain": [
       "[0.24434423446655273, 28.19197988510132, 257.48805975914]"
      ]
     },
     "execution_count": 11,
     "metadata": {},
     "output_type": "execute_result"
    }
   ],
   "source": [
    "insertion_sort"
   ]
  },
  {
   "cell_type": "code",
   "execution_count": 12,
   "metadata": {},
   "outputs": [],
   "source": [
    "insertion_sort_reversed= calculate_time(sa.insertion_sort, reversed_list)"
   ]
  },
  {
   "cell_type": "code",
   "execution_count": 13,
   "metadata": {},
   "outputs": [
    {
     "data": {
      "text/plain": [
       "[0.21103739738464355, 30.57737922668457, 296.84670662879944]"
      ]
     },
     "execution_count": 13,
     "metadata": {},
     "output_type": "execute_result"
    }
   ],
   "source": [
    "insertion_sort_reversed"
   ]
  },
  {
   "cell_type": "markdown",
   "metadata": {},
   "source": [
    "## Merge Sort\n"
   ]
  },
  {
   "cell_type": "code",
   "execution_count": 14,
   "metadata": {},
   "outputs": [],
   "source": [
    "merge_sort= calculate_time(sa.insertion_sort, lists_to_sort)"
   ]
  },
  {
   "cell_type": "code",
   "execution_count": 15,
   "metadata": {},
   "outputs": [
    {
     "data": {
      "text/plain": [
       "[0.23337507247924805, 22.58098840713501, 208.4005172252655]"
      ]
     },
     "execution_count": 15,
     "metadata": {},
     "output_type": "execute_result"
    }
   ],
   "source": [
    "merge_sort"
   ]
  },
  {
   "cell_type": "code",
   "execution_count": 16,
   "metadata": {},
   "outputs": [],
   "source": [
    "merge_sort_reversed= calculate_time(sa.insertion_sort, reversed_list)"
   ]
  },
  {
   "cell_type": "code",
   "execution_count": 17,
   "metadata": {},
   "outputs": [
    {
     "data": {
      "text/plain": [
       "[0.2035222053527832, 22.375030755996704, 206.27712631225586]"
      ]
     },
     "execution_count": 17,
     "metadata": {},
     "output_type": "execute_result"
    }
   ],
   "source": [
    "merge_sort_reversed"
   ]
  },
  {
   "cell_type": "markdown",
   "metadata": {},
   "source": [
    "## Vraag 2 "
   ]
  },
  {
   "cell_type": "markdown",
   "metadata": {},
   "source": [
    "Bepaal voor de algoritmes  'best case', 'worst case' en 'average case' run time efficiëntie."
   ]
  },
  {
   "cell_type": "markdown",
   "metadata": {},
   "source": [
    "Selection sort \n",
    "\n",
    "    Best case    = O(n^2)\n",
    "    Average case = O(n^2)\n",
    "    Worst case   = O(n^2)\n",
    "\n",
    "\n",
    "Insertion sort \n",
    "\n",
    "    Best case    = O(n)\n",
    "    Average case = O(n^2)\n",
    "    Worst case   = O(n^2)\n",
    "    \n",
    "    \n",
    "Merge sort \n",
    "    \n",
    "    Best case    = O(n log n)\n",
    "    Average case = O(n log n)\n",
    "    Worst case   = O(n log n)"
   ]
  },
  {
   "cell_type": "markdown",
   "metadata": {},
   "source": [
    "## Vraag 3 "
   ]
  },
  {
   "cell_type": "markdown",
   "metadata": {},
   "source": [
    "Maakt het voor de complexiteit (Big O) van een algoritme uit of je een iteratieve of een recursieve versie beschouwd?"
   ]
  },
  {
   "cell_type": "markdown",
   "metadata": {},
   "source": [
    "Er is in principe geen verschil in run time tussen iteratieve of een recursieve algoritme. Want de hoeveelheid operaties die uitgevoerd worden in theortisch hetzelfde. "
   ]
  },
  {
   "cell_type": "code",
   "execution_count": null,
   "metadata": {},
   "outputs": [],
   "source": []
  }
 ],
 "metadata": {
  "kernelspec": {
   "display_name": "Python 3",
   "language": "python",
   "name": "python3"
  },
  "language_info": {
   "codemirror_mode": {
    "name": "ipython",
    "version": 3
   },
   "file_extension": ".py",
   "mimetype": "text/x-python",
   "name": "python",
   "nbconvert_exporter": "python",
   "pygments_lexer": "ipython3",
   "version": "3.7.4"
  }
 },
 "nbformat": 4,
 "nbformat_minor": 2
}

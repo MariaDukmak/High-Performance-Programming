{
 "cells": [
  {
   "cell_type": "markdown",
   "metadata": {},
   "source": [
    "# 1.5 Quick Sort"
   ]
  },
  {
   "cell_type": "markdown",
   "metadata": {},
   "source": [
    "De recursieve sorteermethode genaamd Quick Sort is gebruikt de volgende stappen voor het sorteren van een een-dimensionale array van getallen:\n",
    "\n",
    "\n",
    "\n",
    "Partitioning Step: neem het eerste element (pivot) van de ongesorteerde array en bepaal zijn positie in de uiteindelijke gesorteerde array (d.w.z., maak een lijst van alle getallen die kleiner zijn dan de pivot, en eentje met getallen die groter zijn). Je hebt nu 1 element op de juiste positie, en twee ongesorteerde subarrays.\n",
    "\n",
    "\n",
    "\n",
    "Recursive Step: herhaal de Partioning Step op elke van de ongesorteerde subarrays. Elke keer als een partitioning wordt uitgevoerd, wordt er weer een element op zijn uiteindelijke plaats gezet, en worden er twee ongesorteerde subarrays gecreëerd. Zodra de subarrays slechts één element bevatten, staat dat element op de juiste plek (aangezien een array met één element gesorteerd is)."
   ]
  },
  {
   "cell_type": "code",
   "execution_count": 1,
   "metadata": {},
   "outputs": [],
   "source": [
    "import time\n",
    "import numpy as np\n",
    "import random as rd"
   ]
  },
  {
   "cell_type": "code",
   "execution_count": 2,
   "metadata": {},
   "outputs": [],
   "source": [
    "def generate_list(limits):\n",
    "    \"\"\" \n",
    "    generates list of random list\n",
    "    \n",
    "    :param\n",
    "    -------\n",
    "    limits: \n",
    "            list of the size of each random list\n",
    "    \"\"\"\n",
    "    random_lijsten = []\n",
    "    for limit in limits:\n",
    "        random_lijsten.append(np.random.rand(limit))\n",
    "    return random_lijsten"
   ]
  },
  {
   "cell_type": "code",
   "execution_count": 3,
   "metadata": {},
   "outputs": [],
   "source": [
    "def calculate_time(sort_algoritme, list_of_random_list):\n",
    "    \"\"\"\n",
    "    calculates the time that each algorithm takes to sort the lists\n",
    "    \n",
    "    :param\n",
    "    -------\n",
    "    sort_algorithme:\n",
    "            the name of the sort algorithm\n",
    "    list_of_random_list: \n",
    "            the list with the random nummbers \n",
    "    \"\"\"\n",
    "    list_with_times = []\n",
    "    for this_list in list_of_random_list:\n",
    "        time1 = time.time()\n",
    "        sort_algoritme(this_list)\n",
    "        time2 = time.time()\n",
    "        list_with_times.append(time2 - time1)\n",
    "\n",
    "    return list_with_times"
   ]
  },
  {
   "cell_type": "code",
   "execution_count": 4,
   "metadata": {},
   "outputs": [],
   "source": [
    "def partition(arr, start, end):\n",
    "    i = (start - 1)\n",
    "    pivot = arr[end]\n",
    "\n",
    "    for j in range(start, end):\n",
    "        if arr[j] < pivot:\n",
    "            i = i+1\n",
    "            arr[i], arr[j] = arr[j], arr[i]\n",
    "    i = i+1\n",
    "    arr[i], arr[end] = arr[end], arr[i]\n",
    "    return i"
   ]
  },
  {
   "cell_type": "code",
   "execution_count": 5,
   "metadata": {},
   "outputs": [],
   "source": [
    "def quick_sort(arr, start, end):\n",
    "    if start < end:\n",
    "        pi = partition(arr, start, end)\n",
    "\n",
    "        quick_sort(arr, start, pi-1)\n",
    "        quick_sort(arr, pi+1, end)\n",
    "\n",
    "    return arr"
   ]
  },
  {
   "cell_type": "code",
   "execution_count": 10,
   "metadata": {},
   "outputs": [
    {
     "name": "stdout",
     "output_type": "stream",
     "text": [
      "[array([0.88371832, 0.35735422, 0.19118487, 0.31056297, 0.05719549,\n",
      "       0.38029894, 0.56851121, 0.64730129, 0.45257141, 0.3383507 ])]\n"
     ]
    }
   ],
   "source": [
    "lists_to_sort = generate_list([10])\n",
    "print(lists_to_sort)\n",
    "n = len(lists_to_sort) - 1\n",
    "# print(quick_sort(lists_to_sort, 0, n))"
   ]
  },
  {
   "cell_type": "code",
   "execution_count": null,
   "metadata": {},
   "outputs": [],
   "source": []
  }
 ],
 "metadata": {
  "kernelspec": {
   "display_name": "Python 3",
   "language": "python",
   "name": "python3"
  },
  "language_info": {
   "codemirror_mode": {
    "name": "ipython",
    "version": 3
   },
   "file_extension": ".py",
   "mimetype": "text/x-python",
   "name": "python",
   "nbconvert_exporter": "python",
   "pygments_lexer": "ipython3",
   "version": "3.7.4"
  }
 },
 "nbformat": 4,
 "nbformat_minor": 2
}
